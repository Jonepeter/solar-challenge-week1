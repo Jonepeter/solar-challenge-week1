{
 "cells": [
  {
   "cell_type": "markdown",
   "id": "dda8ed62",
   "metadata": {},
   "source": [
    "# **Solar Data Discovery** \n",
    "\n",
    "## **Benin Data Profiling, Cleaning, and EDA**"
   ]
  },
  {
   "cell_type": "code",
   "execution_count": 1,
   "id": "a7a34e77",
   "metadata": {},
   "outputs": [],
   "source": [
    "# Import Required Libraries   \n",
    "import matplotlib.pyplot as plt\n",
    "import pandas as pd \n",
    "import numpy as np\n",
    "from scipy.stats import zscore\n",
    "import seaborn as sns"
   ]
  },
  {
   "cell_type": "code",
   "execution_count": 2,
   "id": "23977a43",
   "metadata": {},
   "outputs": [],
   "source": [
    "# Reading DataSets \n",
    "benin_data = pd.read_csv(\"../data/benin-malanville.csv\", parse_dates=['Timestamp'])"
   ]
  },
  {
   "cell_type": "markdown",
   "id": "45c04b26",
   "metadata": {},
   "source": [
    "### Data Profiling"
   ]
  },
  {
   "cell_type": "code",
   "execution_count": 3,
   "id": "846724e9",
   "metadata": {},
   "outputs": [
    {
     "data": {
      "application/vnd.microsoft.datawrangler.viewer.v0+json": {
       "columns": [
        {
         "name": "index",
         "rawType": "int64",
         "type": "integer"
        },
        {
         "name": "Timestamp",
         "rawType": "datetime64[ns]",
         "type": "datetime"
        },
        {
         "name": "GHI",
         "rawType": "float64",
         "type": "float"
        },
        {
         "name": "DNI",
         "rawType": "float64",
         "type": "float"
        },
        {
         "name": "DHI",
         "rawType": "float64",
         "type": "float"
        },
        {
         "name": "ModA",
         "rawType": "float64",
         "type": "float"
        },
        {
         "name": "ModB",
         "rawType": "float64",
         "type": "float"
        },
        {
         "name": "Tamb",
         "rawType": "float64",
         "type": "float"
        },
        {
         "name": "RH",
         "rawType": "float64",
         "type": "float"
        },
        {
         "name": "WS",
         "rawType": "float64",
         "type": "float"
        },
        {
         "name": "WSgust",
         "rawType": "float64",
         "type": "float"
        },
        {
         "name": "WSstdev",
         "rawType": "float64",
         "type": "float"
        },
        {
         "name": "WD",
         "rawType": "float64",
         "type": "float"
        },
        {
         "name": "WDstdev",
         "rawType": "float64",
         "type": "float"
        },
        {
         "name": "BP",
         "rawType": "int64",
         "type": "integer"
        },
        {
         "name": "Cleaning",
         "rawType": "int64",
         "type": "integer"
        },
        {
         "name": "Precipitation",
         "rawType": "float64",
         "type": "float"
        },
        {
         "name": "TModA",
         "rawType": "float64",
         "type": "float"
        },
        {
         "name": "TModB",
         "rawType": "float64",
         "type": "float"
        },
        {
         "name": "Comments",
         "rawType": "float64",
         "type": "float"
        }
       ],
       "conversionMethod": "pd.DataFrame",
       "ref": "aec0acd0-a8b1-4d7a-b3f4-0c46ae4256ca",
       "rows": [
        [
         "0",
         "2021-08-09 00:01:00",
         "-1.2",
         "-0.2",
         "-1.1",
         "0.0",
         "0.0",
         "26.2",
         "93.4",
         "0.0",
         "0.4",
         "0.1",
         "122.1",
         "0.0",
         "998",
         "0",
         "0.0",
         "26.3",
         "26.2",
         null
        ],
        [
         "1",
         "2021-08-09 00:02:00",
         "-1.1",
         "-0.2",
         "-1.1",
         "0.0",
         "0.0",
         "26.2",
         "93.6",
         "0.0",
         "0.0",
         "0.0",
         "0.0",
         "0.0",
         "998",
         "0",
         "0.0",
         "26.3",
         "26.2",
         null
        ],
        [
         "2",
         "2021-08-09 00:03:00",
         "-1.1",
         "-0.2",
         "-1.1",
         "0.0",
         "0.0",
         "26.2",
         "93.7",
         "0.3",
         "1.1",
         "0.5",
         "124.6",
         "1.5",
         "997",
         "0",
         "0.0",
         "26.4",
         "26.2",
         null
        ],
        [
         "3",
         "2021-08-09 00:04:00",
         "-1.1",
         "-0.1",
         "-1.0",
         "0.0",
         "0.0",
         "26.2",
         "93.3",
         "0.2",
         "0.7",
         "0.4",
         "120.3",
         "1.3",
         "997",
         "0",
         "0.0",
         "26.4",
         "26.3",
         null
        ],
        [
         "4",
         "2021-08-09 00:05:00",
         "-1.0",
         "-0.1",
         "-1.0",
         "0.0",
         "0.0",
         "26.2",
         "93.3",
         "0.1",
         "0.7",
         "0.3",
         "113.2",
         "1.0",
         "997",
         "0",
         "0.0",
         "26.4",
         "26.3",
         null
        ],
        [
         "5",
         "2021-08-09 00:06:00",
         "-1.0",
         "-0.1",
         "-1.0",
         "0.0",
         "0.0",
         "26.2",
         "93.8",
         "0.0",
         "0.4",
         "0.1",
         "119.1",
         "0.0",
         "997",
         "0",
         "0.0",
         "26.4",
         "26.3",
         null
        ],
        [
         "6",
         "2021-08-09 00:07:00",
         "-1.0",
         "-0.1",
         "-1.0",
         "0.0",
         "0.0",
         "26.2",
         "93.7",
         "0.0",
         "0.0",
         "0.0",
         "0.0",
         "0.0",
         "997",
         "0",
         "0.0",
         "26.5",
         "26.3",
         null
        ],
        [
         "7",
         "2021-08-09 00:08:00",
         "-1.0",
         "-0.1",
         "-1.0",
         "0.0",
         "0.0",
         "26.2",
         "93.7",
         "0.7",
         "1.3",
         "0.6",
         "126.8",
         "2.8",
         "997",
         "0",
         "0.0",
         "26.5",
         "26.3",
         null
        ],
        [
         "8",
         "2021-08-09 00:09:00",
         "-1.0",
         "-0.1",
         "-1.0",
         "0.0",
         "0.0",
         "26.2",
         "93.6",
         "0.4",
         "1.1",
         "0.5",
         "124.9",
         "5.5",
         "997",
         "0",
         "0.0",
         "26.5",
         "26.4",
         null
        ],
        [
         "9",
         "2021-08-09 00:10:00",
         "-1.0",
         "-0.1",
         "-1.0",
         "0.0",
         "0.0",
         "26.2",
         "93.6",
         "0.5",
         "1.1",
         "0.5",
         "114.2",
         "5.1",
         "997",
         "0",
         "0.0",
         "26.5",
         "26.4",
         null
        ]
       ],
       "shape": {
        "columns": 19,
        "rows": 10
       }
      },
      "text/html": [
       "<div>\n",
       "<style scoped>\n",
       "    .dataframe tbody tr th:only-of-type {\n",
       "        vertical-align: middle;\n",
       "    }\n",
       "\n",
       "    .dataframe tbody tr th {\n",
       "        vertical-align: top;\n",
       "    }\n",
       "\n",
       "    .dataframe thead th {\n",
       "        text-align: right;\n",
       "    }\n",
       "</style>\n",
       "<table border=\"1\" class=\"dataframe\">\n",
       "  <thead>\n",
       "    <tr style=\"text-align: right;\">\n",
       "      <th></th>\n",
       "      <th>Timestamp</th>\n",
       "      <th>GHI</th>\n",
       "      <th>DNI</th>\n",
       "      <th>DHI</th>\n",
       "      <th>ModA</th>\n",
       "      <th>ModB</th>\n",
       "      <th>Tamb</th>\n",
       "      <th>RH</th>\n",
       "      <th>WS</th>\n",
       "      <th>WSgust</th>\n",
       "      <th>WSstdev</th>\n",
       "      <th>WD</th>\n",
       "      <th>WDstdev</th>\n",
       "      <th>BP</th>\n",
       "      <th>Cleaning</th>\n",
       "      <th>Precipitation</th>\n",
       "      <th>TModA</th>\n",
       "      <th>TModB</th>\n",
       "      <th>Comments</th>\n",
       "    </tr>\n",
       "  </thead>\n",
       "  <tbody>\n",
       "    <tr>\n",
       "      <th>0</th>\n",
       "      <td>2021-08-09 00:01:00</td>\n",
       "      <td>-1.2</td>\n",
       "      <td>-0.2</td>\n",
       "      <td>-1.1</td>\n",
       "      <td>0.0</td>\n",
       "      <td>0.0</td>\n",
       "      <td>26.2</td>\n",
       "      <td>93.4</td>\n",
       "      <td>0.0</td>\n",
       "      <td>0.4</td>\n",
       "      <td>0.1</td>\n",
       "      <td>122.1</td>\n",
       "      <td>0.0</td>\n",
       "      <td>998</td>\n",
       "      <td>0</td>\n",
       "      <td>0.0</td>\n",
       "      <td>26.3</td>\n",
       "      <td>26.2</td>\n",
       "      <td>NaN</td>\n",
       "    </tr>\n",
       "    <tr>\n",
       "      <th>1</th>\n",
       "      <td>2021-08-09 00:02:00</td>\n",
       "      <td>-1.1</td>\n",
       "      <td>-0.2</td>\n",
       "      <td>-1.1</td>\n",
       "      <td>0.0</td>\n",
       "      <td>0.0</td>\n",
       "      <td>26.2</td>\n",
       "      <td>93.6</td>\n",
       "      <td>0.0</td>\n",
       "      <td>0.0</td>\n",
       "      <td>0.0</td>\n",
       "      <td>0.0</td>\n",
       "      <td>0.0</td>\n",
       "      <td>998</td>\n",
       "      <td>0</td>\n",
       "      <td>0.0</td>\n",
       "      <td>26.3</td>\n",
       "      <td>26.2</td>\n",
       "      <td>NaN</td>\n",
       "    </tr>\n",
       "    <tr>\n",
       "      <th>2</th>\n",
       "      <td>2021-08-09 00:03:00</td>\n",
       "      <td>-1.1</td>\n",
       "      <td>-0.2</td>\n",
       "      <td>-1.1</td>\n",
       "      <td>0.0</td>\n",
       "      <td>0.0</td>\n",
       "      <td>26.2</td>\n",
       "      <td>93.7</td>\n",
       "      <td>0.3</td>\n",
       "      <td>1.1</td>\n",
       "      <td>0.5</td>\n",
       "      <td>124.6</td>\n",
       "      <td>1.5</td>\n",
       "      <td>997</td>\n",
       "      <td>0</td>\n",
       "      <td>0.0</td>\n",
       "      <td>26.4</td>\n",
       "      <td>26.2</td>\n",
       "      <td>NaN</td>\n",
       "    </tr>\n",
       "    <tr>\n",
       "      <th>3</th>\n",
       "      <td>2021-08-09 00:04:00</td>\n",
       "      <td>-1.1</td>\n",
       "      <td>-0.1</td>\n",
       "      <td>-1.0</td>\n",
       "      <td>0.0</td>\n",
       "      <td>0.0</td>\n",
       "      <td>26.2</td>\n",
       "      <td>93.3</td>\n",
       "      <td>0.2</td>\n",
       "      <td>0.7</td>\n",
       "      <td>0.4</td>\n",
       "      <td>120.3</td>\n",
       "      <td>1.3</td>\n",
       "      <td>997</td>\n",
       "      <td>0</td>\n",
       "      <td>0.0</td>\n",
       "      <td>26.4</td>\n",
       "      <td>26.3</td>\n",
       "      <td>NaN</td>\n",
       "    </tr>\n",
       "    <tr>\n",
       "      <th>4</th>\n",
       "      <td>2021-08-09 00:05:00</td>\n",
       "      <td>-1.0</td>\n",
       "      <td>-0.1</td>\n",
       "      <td>-1.0</td>\n",
       "      <td>0.0</td>\n",
       "      <td>0.0</td>\n",
       "      <td>26.2</td>\n",
       "      <td>93.3</td>\n",
       "      <td>0.1</td>\n",
       "      <td>0.7</td>\n",
       "      <td>0.3</td>\n",
       "      <td>113.2</td>\n",
       "      <td>1.0</td>\n",
       "      <td>997</td>\n",
       "      <td>0</td>\n",
       "      <td>0.0</td>\n",
       "      <td>26.4</td>\n",
       "      <td>26.3</td>\n",
       "      <td>NaN</td>\n",
       "    </tr>\n",
       "    <tr>\n",
       "      <th>5</th>\n",
       "      <td>2021-08-09 00:06:00</td>\n",
       "      <td>-1.0</td>\n",
       "      <td>-0.1</td>\n",
       "      <td>-1.0</td>\n",
       "      <td>0.0</td>\n",
       "      <td>0.0</td>\n",
       "      <td>26.2</td>\n",
       "      <td>93.8</td>\n",
       "      <td>0.0</td>\n",
       "      <td>0.4</td>\n",
       "      <td>0.1</td>\n",
       "      <td>119.1</td>\n",
       "      <td>0.0</td>\n",
       "      <td>997</td>\n",
       "      <td>0</td>\n",
       "      <td>0.0</td>\n",
       "      <td>26.4</td>\n",
       "      <td>26.3</td>\n",
       "      <td>NaN</td>\n",
       "    </tr>\n",
       "    <tr>\n",
       "      <th>6</th>\n",
       "      <td>2021-08-09 00:07:00</td>\n",
       "      <td>-1.0</td>\n",
       "      <td>-0.1</td>\n",
       "      <td>-1.0</td>\n",
       "      <td>0.0</td>\n",
       "      <td>0.0</td>\n",
       "      <td>26.2</td>\n",
       "      <td>93.7</td>\n",
       "      <td>0.0</td>\n",
       "      <td>0.0</td>\n",
       "      <td>0.0</td>\n",
       "      <td>0.0</td>\n",
       "      <td>0.0</td>\n",
       "      <td>997</td>\n",
       "      <td>0</td>\n",
       "      <td>0.0</td>\n",
       "      <td>26.5</td>\n",
       "      <td>26.3</td>\n",
       "      <td>NaN</td>\n",
       "    </tr>\n",
       "    <tr>\n",
       "      <th>7</th>\n",
       "      <td>2021-08-09 00:08:00</td>\n",
       "      <td>-1.0</td>\n",
       "      <td>-0.1</td>\n",
       "      <td>-1.0</td>\n",
       "      <td>0.0</td>\n",
       "      <td>0.0</td>\n",
       "      <td>26.2</td>\n",
       "      <td>93.7</td>\n",
       "      <td>0.7</td>\n",
       "      <td>1.3</td>\n",
       "      <td>0.6</td>\n",
       "      <td>126.8</td>\n",
       "      <td>2.8</td>\n",
       "      <td>997</td>\n",
       "      <td>0</td>\n",
       "      <td>0.0</td>\n",
       "      <td>26.5</td>\n",
       "      <td>26.3</td>\n",
       "      <td>NaN</td>\n",
       "    </tr>\n",
       "    <tr>\n",
       "      <th>8</th>\n",
       "      <td>2021-08-09 00:09:00</td>\n",
       "      <td>-1.0</td>\n",
       "      <td>-0.1</td>\n",
       "      <td>-1.0</td>\n",
       "      <td>0.0</td>\n",
       "      <td>0.0</td>\n",
       "      <td>26.2</td>\n",
       "      <td>93.6</td>\n",
       "      <td>0.4</td>\n",
       "      <td>1.1</td>\n",
       "      <td>0.5</td>\n",
       "      <td>124.9</td>\n",
       "      <td>5.5</td>\n",
       "      <td>997</td>\n",
       "      <td>0</td>\n",
       "      <td>0.0</td>\n",
       "      <td>26.5</td>\n",
       "      <td>26.4</td>\n",
       "      <td>NaN</td>\n",
       "    </tr>\n",
       "    <tr>\n",
       "      <th>9</th>\n",
       "      <td>2021-08-09 00:10:00</td>\n",
       "      <td>-1.0</td>\n",
       "      <td>-0.1</td>\n",
       "      <td>-1.0</td>\n",
       "      <td>0.0</td>\n",
       "      <td>0.0</td>\n",
       "      <td>26.2</td>\n",
       "      <td>93.6</td>\n",
       "      <td>0.5</td>\n",
       "      <td>1.1</td>\n",
       "      <td>0.5</td>\n",
       "      <td>114.2</td>\n",
       "      <td>5.1</td>\n",
       "      <td>997</td>\n",
       "      <td>0</td>\n",
       "      <td>0.0</td>\n",
       "      <td>26.5</td>\n",
       "      <td>26.4</td>\n",
       "      <td>NaN</td>\n",
       "    </tr>\n",
       "  </tbody>\n",
       "</table>\n",
       "</div>"
      ],
      "text/plain": [
       "            Timestamp  GHI  DNI  DHI  ModA  ModB  Tamb    RH   WS  WSgust  \\\n",
       "0 2021-08-09 00:01:00 -1.2 -0.2 -1.1   0.0   0.0  26.2  93.4  0.0     0.4   \n",
       "1 2021-08-09 00:02:00 -1.1 -0.2 -1.1   0.0   0.0  26.2  93.6  0.0     0.0   \n",
       "2 2021-08-09 00:03:00 -1.1 -0.2 -1.1   0.0   0.0  26.2  93.7  0.3     1.1   \n",
       "3 2021-08-09 00:04:00 -1.1 -0.1 -1.0   0.0   0.0  26.2  93.3  0.2     0.7   \n",
       "4 2021-08-09 00:05:00 -1.0 -0.1 -1.0   0.0   0.0  26.2  93.3  0.1     0.7   \n",
       "5 2021-08-09 00:06:00 -1.0 -0.1 -1.0   0.0   0.0  26.2  93.8  0.0     0.4   \n",
       "6 2021-08-09 00:07:00 -1.0 -0.1 -1.0   0.0   0.0  26.2  93.7  0.0     0.0   \n",
       "7 2021-08-09 00:08:00 -1.0 -0.1 -1.0   0.0   0.0  26.2  93.7  0.7     1.3   \n",
       "8 2021-08-09 00:09:00 -1.0 -0.1 -1.0   0.0   0.0  26.2  93.6  0.4     1.1   \n",
       "9 2021-08-09 00:10:00 -1.0 -0.1 -1.0   0.0   0.0  26.2  93.6  0.5     1.1   \n",
       "\n",
       "   WSstdev     WD  WDstdev   BP  Cleaning  Precipitation  TModA  TModB  \\\n",
       "0      0.1  122.1      0.0  998         0            0.0   26.3   26.2   \n",
       "1      0.0    0.0      0.0  998         0            0.0   26.3   26.2   \n",
       "2      0.5  124.6      1.5  997         0            0.0   26.4   26.2   \n",
       "3      0.4  120.3      1.3  997         0            0.0   26.4   26.3   \n",
       "4      0.3  113.2      1.0  997         0            0.0   26.4   26.3   \n",
       "5      0.1  119.1      0.0  997         0            0.0   26.4   26.3   \n",
       "6      0.0    0.0      0.0  997         0            0.0   26.5   26.3   \n",
       "7      0.6  126.8      2.8  997         0            0.0   26.5   26.3   \n",
       "8      0.5  124.9      5.5  997         0            0.0   26.5   26.4   \n",
       "9      0.5  114.2      5.1  997         0            0.0   26.5   26.4   \n",
       "\n",
       "   Comments  \n",
       "0       NaN  \n",
       "1       NaN  \n",
       "2       NaN  \n",
       "3       NaN  \n",
       "4       NaN  \n",
       "5       NaN  \n",
       "6       NaN  \n",
       "7       NaN  \n",
       "8       NaN  \n",
       "9       NaN  "
      ]
     },
     "execution_count": 3,
     "metadata": {},
     "output_type": "execute_result"
    }
   ],
   "source": [
    "# display the first 10 records\n",
    "benin_data.head(10)"
   ]
  },
  {
   "cell_type": "code",
   "execution_count": 4,
   "id": "23066377",
   "metadata": {},
   "outputs": [
    {
     "data": {
      "application/vnd.microsoft.datawrangler.viewer.v0+json": {
       "columns": [
        {
         "name": "index",
         "rawType": "int64",
         "type": "integer"
        },
        {
         "name": "Timestamp",
         "rawType": "datetime64[ns]",
         "type": "datetime"
        },
        {
         "name": "GHI",
         "rawType": "float64",
         "type": "float"
        },
        {
         "name": "DNI",
         "rawType": "float64",
         "type": "float"
        },
        {
         "name": "DHI",
         "rawType": "float64",
         "type": "float"
        },
        {
         "name": "ModA",
         "rawType": "float64",
         "type": "float"
        },
        {
         "name": "ModB",
         "rawType": "float64",
         "type": "float"
        },
        {
         "name": "Tamb",
         "rawType": "float64",
         "type": "float"
        },
        {
         "name": "RH",
         "rawType": "float64",
         "type": "float"
        },
        {
         "name": "WS",
         "rawType": "float64",
         "type": "float"
        },
        {
         "name": "WSgust",
         "rawType": "float64",
         "type": "float"
        },
        {
         "name": "WSstdev",
         "rawType": "float64",
         "type": "float"
        },
        {
         "name": "WD",
         "rawType": "float64",
         "type": "float"
        },
        {
         "name": "WDstdev",
         "rawType": "float64",
         "type": "float"
        },
        {
         "name": "BP",
         "rawType": "int64",
         "type": "integer"
        },
        {
         "name": "Cleaning",
         "rawType": "int64",
         "type": "integer"
        },
        {
         "name": "Precipitation",
         "rawType": "float64",
         "type": "float"
        },
        {
         "name": "TModA",
         "rawType": "float64",
         "type": "float"
        },
        {
         "name": "TModB",
         "rawType": "float64",
         "type": "float"
        },
        {
         "name": "Comments",
         "rawType": "float64",
         "type": "float"
        }
       ],
       "conversionMethod": "pd.DataFrame",
       "ref": "57f639e5-c651-4d89-9502-b5e7ce02dc11",
       "rows": [
        [
         "525590",
         "2022-08-08 23:51:00",
         "-5.5",
         "-0.1",
         "-5.8",
         "0.0",
         "0.0",
         "23.1",
         "98.3",
         "0.6",
         "1.3",
         "0.6",
         "95.9",
         "6.2",
         "996",
         "0",
         "0.0",
         "23.4",
         "22.8",
         null
        ],
        [
         "525591",
         "2022-08-08 23:52:00",
         "-5.5",
         "0.0",
         "-5.8",
         "0.0",
         "0.0",
         "23.1",
         "98.3",
         "0.4",
         "1.1",
         "0.5",
         "94.0",
         "2.5",
         "996",
         "0",
         "0.0",
         "23.4",
         "22.8",
         null
        ],
        [
         "525592",
         "2022-08-08 23:53:00",
         "-5.5",
         "-0.1",
         "-5.8",
         "0.0",
         "0.0",
         "23.1",
         "98.4",
         "0.3",
         "1.1",
         "0.5",
         "103.5",
         "1.9",
         "996",
         "0",
         "0.0",
         "23.5",
         "22.9",
         null
        ],
        [
         "525593",
         "2022-08-08 23:54:00",
         "-5.5",
         "-0.1",
         "-5.9",
         "0.0",
         "0.0",
         "23.1",
         "98.4",
         "0.1",
         "1.1",
         "0.3",
         "94.3",
         "1.5",
         "996",
         "0",
         "0.0",
         "23.5",
         "22.9",
         null
        ],
        [
         "525594",
         "2022-08-08 23:55:00",
         "-5.5",
         "-0.1",
         "-5.9",
         "0.0",
         "0.0",
         "23.1",
         "98.3",
         "0.1",
         "1.1",
         "0.3",
         "112.2",
         "0.7",
         "996",
         "0",
         "0.0",
         "23.5",
         "22.9",
         null
        ],
        [
         "525595",
         "2022-08-08 23:56:00",
         "-5.5",
         "-0.1",
         "-5.9",
         "0.0",
         "0.0",
         "23.1",
         "98.3",
         "0.3",
         "1.1",
         "0.5",
         "119.3",
         "4.1",
         "996",
         "0",
         "0.0",
         "23.5",
         "22.9",
         null
        ],
        [
         "525596",
         "2022-08-08 23:57:00",
         "-5.5",
         "-0.1",
         "-5.8",
         "0.0",
         "0.0",
         "23.1",
         "98.3",
         "0.2",
         "0.7",
         "0.4",
         "115.2",
         "2.3",
         "996",
         "0",
         "0.0",
         "23.5",
         "22.9",
         null
        ],
        [
         "525597",
         "2022-08-08 23:58:00",
         "-5.5",
         "-0.1",
         "-5.8",
         "0.0",
         "0.0",
         "23.1",
         "98.4",
         "0.6",
         "1.1",
         "0.5",
         "129.8",
         "3.4",
         "996",
         "0",
         "0.0",
         "23.5",
         "22.9",
         null
        ],
        [
         "525598",
         "2022-08-08 23:59:00",
         "-5.5",
         "-0.1",
         "-5.8",
         "0.0",
         "0.0",
         "23.1",
         "98.3",
         "0.9",
         "1.3",
         "0.5",
         "124.4",
         "4.3",
         "996",
         "0",
         "0.0",
         "23.5",
         "22.9",
         null
        ],
        [
         "525599",
         "2022-08-09 00:00:00",
         "-5.5",
         "-0.1",
         "-5.7",
         "0.0",
         "0.0",
         "23.1",
         "98.3",
         "1.2",
         "1.6",
         "0.3",
         "124.1",
         "5.9",
         "996",
         "0",
         "0.0",
         "23.5",
         "22.9",
         null
        ]
       ],
       "shape": {
        "columns": 19,
        "rows": 10
       }
      },
      "text/html": [
       "<div>\n",
       "<style scoped>\n",
       "    .dataframe tbody tr th:only-of-type {\n",
       "        vertical-align: middle;\n",
       "    }\n",
       "\n",
       "    .dataframe tbody tr th {\n",
       "        vertical-align: top;\n",
       "    }\n",
       "\n",
       "    .dataframe thead th {\n",
       "        text-align: right;\n",
       "    }\n",
       "</style>\n",
       "<table border=\"1\" class=\"dataframe\">\n",
       "  <thead>\n",
       "    <tr style=\"text-align: right;\">\n",
       "      <th></th>\n",
       "      <th>Timestamp</th>\n",
       "      <th>GHI</th>\n",
       "      <th>DNI</th>\n",
       "      <th>DHI</th>\n",
       "      <th>ModA</th>\n",
       "      <th>ModB</th>\n",
       "      <th>Tamb</th>\n",
       "      <th>RH</th>\n",
       "      <th>WS</th>\n",
       "      <th>WSgust</th>\n",
       "      <th>WSstdev</th>\n",
       "      <th>WD</th>\n",
       "      <th>WDstdev</th>\n",
       "      <th>BP</th>\n",
       "      <th>Cleaning</th>\n",
       "      <th>Precipitation</th>\n",
       "      <th>TModA</th>\n",
       "      <th>TModB</th>\n",
       "      <th>Comments</th>\n",
       "    </tr>\n",
       "  </thead>\n",
       "  <tbody>\n",
       "    <tr>\n",
       "      <th>525590</th>\n",
       "      <td>2022-08-08 23:51:00</td>\n",
       "      <td>-5.5</td>\n",
       "      <td>-0.1</td>\n",
       "      <td>-5.8</td>\n",
       "      <td>0.0</td>\n",
       "      <td>0.0</td>\n",
       "      <td>23.1</td>\n",
       "      <td>98.3</td>\n",
       "      <td>0.6</td>\n",
       "      <td>1.3</td>\n",
       "      <td>0.6</td>\n",
       "      <td>95.9</td>\n",
       "      <td>6.2</td>\n",
       "      <td>996</td>\n",
       "      <td>0</td>\n",
       "      <td>0.0</td>\n",
       "      <td>23.4</td>\n",
       "      <td>22.8</td>\n",
       "      <td>NaN</td>\n",
       "    </tr>\n",
       "    <tr>\n",
       "      <th>525591</th>\n",
       "      <td>2022-08-08 23:52:00</td>\n",
       "      <td>-5.5</td>\n",
       "      <td>0.0</td>\n",
       "      <td>-5.8</td>\n",
       "      <td>0.0</td>\n",
       "      <td>0.0</td>\n",
       "      <td>23.1</td>\n",
       "      <td>98.3</td>\n",
       "      <td>0.4</td>\n",
       "      <td>1.1</td>\n",
       "      <td>0.5</td>\n",
       "      <td>94.0</td>\n",
       "      <td>2.5</td>\n",
       "      <td>996</td>\n",
       "      <td>0</td>\n",
       "      <td>0.0</td>\n",
       "      <td>23.4</td>\n",
       "      <td>22.8</td>\n",
       "      <td>NaN</td>\n",
       "    </tr>\n",
       "    <tr>\n",
       "      <th>525592</th>\n",
       "      <td>2022-08-08 23:53:00</td>\n",
       "      <td>-5.5</td>\n",
       "      <td>-0.1</td>\n",
       "      <td>-5.8</td>\n",
       "      <td>0.0</td>\n",
       "      <td>0.0</td>\n",
       "      <td>23.1</td>\n",
       "      <td>98.4</td>\n",
       "      <td>0.3</td>\n",
       "      <td>1.1</td>\n",
       "      <td>0.5</td>\n",
       "      <td>103.5</td>\n",
       "      <td>1.9</td>\n",
       "      <td>996</td>\n",
       "      <td>0</td>\n",
       "      <td>0.0</td>\n",
       "      <td>23.5</td>\n",
       "      <td>22.9</td>\n",
       "      <td>NaN</td>\n",
       "    </tr>\n",
       "    <tr>\n",
       "      <th>525593</th>\n",
       "      <td>2022-08-08 23:54:00</td>\n",
       "      <td>-5.5</td>\n",
       "      <td>-0.1</td>\n",
       "      <td>-5.9</td>\n",
       "      <td>0.0</td>\n",
       "      <td>0.0</td>\n",
       "      <td>23.1</td>\n",
       "      <td>98.4</td>\n",
       "      <td>0.1</td>\n",
       "      <td>1.1</td>\n",
       "      <td>0.3</td>\n",
       "      <td>94.3</td>\n",
       "      <td>1.5</td>\n",
       "      <td>996</td>\n",
       "      <td>0</td>\n",
       "      <td>0.0</td>\n",
       "      <td>23.5</td>\n",
       "      <td>22.9</td>\n",
       "      <td>NaN</td>\n",
       "    </tr>\n",
       "    <tr>\n",
       "      <th>525594</th>\n",
       "      <td>2022-08-08 23:55:00</td>\n",
       "      <td>-5.5</td>\n",
       "      <td>-0.1</td>\n",
       "      <td>-5.9</td>\n",
       "      <td>0.0</td>\n",
       "      <td>0.0</td>\n",
       "      <td>23.1</td>\n",
       "      <td>98.3</td>\n",
       "      <td>0.1</td>\n",
       "      <td>1.1</td>\n",
       "      <td>0.3</td>\n",
       "      <td>112.2</td>\n",
       "      <td>0.7</td>\n",
       "      <td>996</td>\n",
       "      <td>0</td>\n",
       "      <td>0.0</td>\n",
       "      <td>23.5</td>\n",
       "      <td>22.9</td>\n",
       "      <td>NaN</td>\n",
       "    </tr>\n",
       "    <tr>\n",
       "      <th>525595</th>\n",
       "      <td>2022-08-08 23:56:00</td>\n",
       "      <td>-5.5</td>\n",
       "      <td>-0.1</td>\n",
       "      <td>-5.9</td>\n",
       "      <td>0.0</td>\n",
       "      <td>0.0</td>\n",
       "      <td>23.1</td>\n",
       "      <td>98.3</td>\n",
       "      <td>0.3</td>\n",
       "      <td>1.1</td>\n",
       "      <td>0.5</td>\n",
       "      <td>119.3</td>\n",
       "      <td>4.1</td>\n",
       "      <td>996</td>\n",
       "      <td>0</td>\n",
       "      <td>0.0</td>\n",
       "      <td>23.5</td>\n",
       "      <td>22.9</td>\n",
       "      <td>NaN</td>\n",
       "    </tr>\n",
       "    <tr>\n",
       "      <th>525596</th>\n",
       "      <td>2022-08-08 23:57:00</td>\n",
       "      <td>-5.5</td>\n",
       "      <td>-0.1</td>\n",
       "      <td>-5.8</td>\n",
       "      <td>0.0</td>\n",
       "      <td>0.0</td>\n",
       "      <td>23.1</td>\n",
       "      <td>98.3</td>\n",
       "      <td>0.2</td>\n",
       "      <td>0.7</td>\n",
       "      <td>0.4</td>\n",
       "      <td>115.2</td>\n",
       "      <td>2.3</td>\n",
       "      <td>996</td>\n",
       "      <td>0</td>\n",
       "      <td>0.0</td>\n",
       "      <td>23.5</td>\n",
       "      <td>22.9</td>\n",
       "      <td>NaN</td>\n",
       "    </tr>\n",
       "    <tr>\n",
       "      <th>525597</th>\n",
       "      <td>2022-08-08 23:58:00</td>\n",
       "      <td>-5.5</td>\n",
       "      <td>-0.1</td>\n",
       "      <td>-5.8</td>\n",
       "      <td>0.0</td>\n",
       "      <td>0.0</td>\n",
       "      <td>23.1</td>\n",
       "      <td>98.4</td>\n",
       "      <td>0.6</td>\n",
       "      <td>1.1</td>\n",
       "      <td>0.5</td>\n",
       "      <td>129.8</td>\n",
       "      <td>3.4</td>\n",
       "      <td>996</td>\n",
       "      <td>0</td>\n",
       "      <td>0.0</td>\n",
       "      <td>23.5</td>\n",
       "      <td>22.9</td>\n",
       "      <td>NaN</td>\n",
       "    </tr>\n",
       "    <tr>\n",
       "      <th>525598</th>\n",
       "      <td>2022-08-08 23:59:00</td>\n",
       "      <td>-5.5</td>\n",
       "      <td>-0.1</td>\n",
       "      <td>-5.8</td>\n",
       "      <td>0.0</td>\n",
       "      <td>0.0</td>\n",
       "      <td>23.1</td>\n",
       "      <td>98.3</td>\n",
       "      <td>0.9</td>\n",
       "      <td>1.3</td>\n",
       "      <td>0.5</td>\n",
       "      <td>124.4</td>\n",
       "      <td>4.3</td>\n",
       "      <td>996</td>\n",
       "      <td>0</td>\n",
       "      <td>0.0</td>\n",
       "      <td>23.5</td>\n",
       "      <td>22.9</td>\n",
       "      <td>NaN</td>\n",
       "    </tr>\n",
       "    <tr>\n",
       "      <th>525599</th>\n",
       "      <td>2022-08-09 00:00:00</td>\n",
       "      <td>-5.5</td>\n",
       "      <td>-0.1</td>\n",
       "      <td>-5.7</td>\n",
       "      <td>0.0</td>\n",
       "      <td>0.0</td>\n",
       "      <td>23.1</td>\n",
       "      <td>98.3</td>\n",
       "      <td>1.2</td>\n",
       "      <td>1.6</td>\n",
       "      <td>0.3</td>\n",
       "      <td>124.1</td>\n",
       "      <td>5.9</td>\n",
       "      <td>996</td>\n",
       "      <td>0</td>\n",
       "      <td>0.0</td>\n",
       "      <td>23.5</td>\n",
       "      <td>22.9</td>\n",
       "      <td>NaN</td>\n",
       "    </tr>\n",
       "  </tbody>\n",
       "</table>\n",
       "</div>"
      ],
      "text/plain": [
       "                 Timestamp  GHI  DNI  DHI  ModA  ModB  Tamb    RH   WS  \\\n",
       "525590 2022-08-08 23:51:00 -5.5 -0.1 -5.8   0.0   0.0  23.1  98.3  0.6   \n",
       "525591 2022-08-08 23:52:00 -5.5  0.0 -5.8   0.0   0.0  23.1  98.3  0.4   \n",
       "525592 2022-08-08 23:53:00 -5.5 -0.1 -5.8   0.0   0.0  23.1  98.4  0.3   \n",
       "525593 2022-08-08 23:54:00 -5.5 -0.1 -5.9   0.0   0.0  23.1  98.4  0.1   \n",
       "525594 2022-08-08 23:55:00 -5.5 -0.1 -5.9   0.0   0.0  23.1  98.3  0.1   \n",
       "525595 2022-08-08 23:56:00 -5.5 -0.1 -5.9   0.0   0.0  23.1  98.3  0.3   \n",
       "525596 2022-08-08 23:57:00 -5.5 -0.1 -5.8   0.0   0.0  23.1  98.3  0.2   \n",
       "525597 2022-08-08 23:58:00 -5.5 -0.1 -5.8   0.0   0.0  23.1  98.4  0.6   \n",
       "525598 2022-08-08 23:59:00 -5.5 -0.1 -5.8   0.0   0.0  23.1  98.3  0.9   \n",
       "525599 2022-08-09 00:00:00 -5.5 -0.1 -5.7   0.0   0.0  23.1  98.3  1.2   \n",
       "\n",
       "        WSgust  WSstdev     WD  WDstdev   BP  Cleaning  Precipitation  TModA  \\\n",
       "525590     1.3      0.6   95.9      6.2  996         0            0.0   23.4   \n",
       "525591     1.1      0.5   94.0      2.5  996         0            0.0   23.4   \n",
       "525592     1.1      0.5  103.5      1.9  996         0            0.0   23.5   \n",
       "525593     1.1      0.3   94.3      1.5  996         0            0.0   23.5   \n",
       "525594     1.1      0.3  112.2      0.7  996         0            0.0   23.5   \n",
       "525595     1.1      0.5  119.3      4.1  996         0            0.0   23.5   \n",
       "525596     0.7      0.4  115.2      2.3  996         0            0.0   23.5   \n",
       "525597     1.1      0.5  129.8      3.4  996         0            0.0   23.5   \n",
       "525598     1.3      0.5  124.4      4.3  996         0            0.0   23.5   \n",
       "525599     1.6      0.3  124.1      5.9  996         0            0.0   23.5   \n",
       "\n",
       "        TModB  Comments  \n",
       "525590   22.8       NaN  \n",
       "525591   22.8       NaN  \n",
       "525592   22.9       NaN  \n",
       "525593   22.9       NaN  \n",
       "525594   22.9       NaN  \n",
       "525595   22.9       NaN  \n",
       "525596   22.9       NaN  \n",
       "525597   22.9       NaN  \n",
       "525598   22.9       NaN  \n",
       "525599   22.9       NaN  "
      ]
     },
     "execution_count": 4,
     "metadata": {},
     "output_type": "execute_result"
    }
   ],
   "source": [
    "# display the last 10 records \n",
    "benin_data.tail(10)"
   ]
  },
  {
   "cell_type": "code",
   "execution_count": 5,
   "id": "20098f2f",
   "metadata": {},
   "outputs": [
    {
     "name": "stdout",
     "output_type": "stream",
     "text": [
      "Togo Solar data Information: \n",
      "Instances: 525600 records \n",
      "Features:  19 columns\n"
     ]
    }
   ],
   "source": [
    "# display the shape of the data to get info about number features and instance \n",
    "print(f\"Togo Solar data Information: \")\n",
    "print(f\"Instances: {benin_data.shape[0]} records \")\n",
    "print(f\"Features:  {benin_data.shape[1] } columns\")"
   ]
  },
  {
   "cell_type": "code",
   "execution_count": 6,
   "id": "82ab7a62",
   "metadata": {},
   "outputs": [
    {
     "name": "stdout",
     "output_type": "stream",
     "text": [
      "<class 'pandas.core.frame.DataFrame'>\n",
      "RangeIndex: 525600 entries, 0 to 525599\n",
      "Data columns (total 19 columns):\n",
      " #   Column         Non-Null Count   Dtype         \n",
      "---  ------         --------------   -----         \n",
      " 0   Timestamp      525600 non-null  datetime64[ns]\n",
      " 1   GHI            525600 non-null  float64       \n",
      " 2   DNI            525600 non-null  float64       \n",
      " 3   DHI            525600 non-null  float64       \n",
      " 4   ModA           525600 non-null  float64       \n",
      " 5   ModB           525600 non-null  float64       \n",
      " 6   Tamb           525600 non-null  float64       \n",
      " 7   RH             525600 non-null  float64       \n",
      " 8   WS             525600 non-null  float64       \n",
      " 9   WSgust         525600 non-null  float64       \n",
      " 10  WSstdev        525600 non-null  float64       \n",
      " 11  WD             525600 non-null  float64       \n",
      " 12  WDstdev        525600 non-null  float64       \n",
      " 13  BP             525600 non-null  int64         \n",
      " 14  Cleaning       525600 non-null  int64         \n",
      " 15  Precipitation  525600 non-null  float64       \n",
      " 16  TModA          525600 non-null  float64       \n",
      " 17  TModB          525600 non-null  float64       \n",
      " 18  Comments       0 non-null       float64       \n",
      "dtypes: datetime64[ns](1), float64(16), int64(2)\n",
      "memory usage: 76.2 MB\n"
     ]
    }
   ],
   "source": [
    "# Dataset information about type of each columns, size \n",
    "benin_data.info()"
   ]
  },
  {
   "cell_type": "code",
   "execution_count": 7,
   "id": "70144375",
   "metadata": {},
   "outputs": [
    {
     "data": {
      "application/vnd.microsoft.datawrangler.viewer.v0+json": {
       "columns": [
        {
         "name": "index",
         "rawType": "object",
         "type": "string"
        },
        {
         "name": "columns",
         "rawType": "object",
         "type": "string"
        },
        {
         "name": "# of unique",
         "rawType": "int64",
         "type": "integer"
        }
       ],
       "conversionMethod": "pd.DataFrame",
       "ref": "e1777980-0515-4abf-9278-5d635373783c",
       "rows": [
        [
         "Timestamp",
         "Timestamp",
         "525600"
        ],
        [
         "GHI",
         "GHI",
         "8609"
        ],
        [
         "DNI",
         "DNI",
         "8905"
        ],
        [
         "DHI",
         "DHI",
         "6995"
        ],
        [
         "ModA",
         "ModA",
         "10755"
        ],
        [
         "ModB",
         "ModB",
         "8461"
        ],
        [
         "Tamb",
         "Tamb",
         "329"
        ],
        [
         "RH",
         "RH",
         "980"
        ],
        [
         "WS",
         "WS",
         "164"
        ],
        [
         "WSgust",
         "WSgust",
         "92"
        ],
        [
         "WSstdev",
         "WSstdev",
         "42"
        ],
        [
         "WD",
         "WD",
         "3601"
        ],
        [
         "WDstdev",
         "WDstdev",
         "679"
        ],
        [
         "BP",
         "BP",
         "19"
        ],
        [
         "Cleaning",
         "Cleaning",
         "2"
        ],
        [
         "Precipitation",
         "Precipitation",
         "26"
        ],
        [
         "TModA",
         "TModA",
         "712"
        ],
        [
         "TModB",
         "TModB",
         "642"
        ],
        [
         "Comments",
         "Comments",
         "0"
        ]
       ],
       "shape": {
        "columns": 2,
        "rows": 19
       }
      },
      "text/html": [
       "<div>\n",
       "<style scoped>\n",
       "    .dataframe tbody tr th:only-of-type {\n",
       "        vertical-align: middle;\n",
       "    }\n",
       "\n",
       "    .dataframe tbody tr th {\n",
       "        vertical-align: top;\n",
       "    }\n",
       "\n",
       "    .dataframe thead th {\n",
       "        text-align: right;\n",
       "    }\n",
       "</style>\n",
       "<table border=\"1\" class=\"dataframe\">\n",
       "  <thead>\n",
       "    <tr style=\"text-align: right;\">\n",
       "      <th></th>\n",
       "      <th>columns</th>\n",
       "      <th># of unique</th>\n",
       "    </tr>\n",
       "  </thead>\n",
       "  <tbody>\n",
       "    <tr>\n",
       "      <th>Timestamp</th>\n",
       "      <td>Timestamp</td>\n",
       "      <td>525600</td>\n",
       "    </tr>\n",
       "    <tr>\n",
       "      <th>GHI</th>\n",
       "      <td>GHI</td>\n",
       "      <td>8609</td>\n",
       "    </tr>\n",
       "    <tr>\n",
       "      <th>DNI</th>\n",
       "      <td>DNI</td>\n",
       "      <td>8905</td>\n",
       "    </tr>\n",
       "    <tr>\n",
       "      <th>DHI</th>\n",
       "      <td>DHI</td>\n",
       "      <td>6995</td>\n",
       "    </tr>\n",
       "    <tr>\n",
       "      <th>ModA</th>\n",
       "      <td>ModA</td>\n",
       "      <td>10755</td>\n",
       "    </tr>\n",
       "    <tr>\n",
       "      <th>ModB</th>\n",
       "      <td>ModB</td>\n",
       "      <td>8461</td>\n",
       "    </tr>\n",
       "    <tr>\n",
       "      <th>Tamb</th>\n",
       "      <td>Tamb</td>\n",
       "      <td>329</td>\n",
       "    </tr>\n",
       "    <tr>\n",
       "      <th>RH</th>\n",
       "      <td>RH</td>\n",
       "      <td>980</td>\n",
       "    </tr>\n",
       "    <tr>\n",
       "      <th>WS</th>\n",
       "      <td>WS</td>\n",
       "      <td>164</td>\n",
       "    </tr>\n",
       "    <tr>\n",
       "      <th>WSgust</th>\n",
       "      <td>WSgust</td>\n",
       "      <td>92</td>\n",
       "    </tr>\n",
       "    <tr>\n",
       "      <th>WSstdev</th>\n",
       "      <td>WSstdev</td>\n",
       "      <td>42</td>\n",
       "    </tr>\n",
       "    <tr>\n",
       "      <th>WD</th>\n",
       "      <td>WD</td>\n",
       "      <td>3601</td>\n",
       "    </tr>\n",
       "    <tr>\n",
       "      <th>WDstdev</th>\n",
       "      <td>WDstdev</td>\n",
       "      <td>679</td>\n",
       "    </tr>\n",
       "    <tr>\n",
       "      <th>BP</th>\n",
       "      <td>BP</td>\n",
       "      <td>19</td>\n",
       "    </tr>\n",
       "    <tr>\n",
       "      <th>Cleaning</th>\n",
       "      <td>Cleaning</td>\n",
       "      <td>2</td>\n",
       "    </tr>\n",
       "    <tr>\n",
       "      <th>Precipitation</th>\n",
       "      <td>Precipitation</td>\n",
       "      <td>26</td>\n",
       "    </tr>\n",
       "    <tr>\n",
       "      <th>TModA</th>\n",
       "      <td>TModA</td>\n",
       "      <td>712</td>\n",
       "    </tr>\n",
       "    <tr>\n",
       "      <th>TModB</th>\n",
       "      <td>TModB</td>\n",
       "      <td>642</td>\n",
       "    </tr>\n",
       "    <tr>\n",
       "      <th>Comments</th>\n",
       "      <td>Comments</td>\n",
       "      <td>0</td>\n",
       "    </tr>\n",
       "  </tbody>\n",
       "</table>\n",
       "</div>"
      ],
      "text/plain": [
       "                     columns  # of unique\n",
       "Timestamp          Timestamp       525600\n",
       "GHI                      GHI         8609\n",
       "DNI                      DNI         8905\n",
       "DHI                      DHI         6995\n",
       "ModA                    ModA        10755\n",
       "ModB                    ModB         8461\n",
       "Tamb                    Tamb          329\n",
       "RH                        RH          980\n",
       "WS                        WS          164\n",
       "WSgust                WSgust           92\n",
       "WSstdev              WSstdev           42\n",
       "WD                        WD         3601\n",
       "WDstdev              WDstdev          679\n",
       "BP                        BP           19\n",
       "Cleaning            Cleaning            2\n",
       "Precipitation  Precipitation           26\n",
       "TModA                  TModA          712\n",
       "TModB                  TModB          642\n",
       "Comments            Comments            0"
      ]
     },
     "execution_count": 7,
     "metadata": {},
     "output_type": "execute_result"
    }
   ],
   "source": [
    "# Getting number of unique values \n",
    "number_of_unique = pd.DataFrame({\n",
    "    'columns': benin_data.columns,\n",
    "    '# of unique': benin_data.nunique()\n",
    "})\n",
    "number_of_unique"
   ]
  },
  {
   "cell_type": "code",
   "execution_count": 8,
   "id": "f630f350",
   "metadata": {},
   "outputs": [
    {
     "name": "stdout",
     "output_type": "stream",
     "text": [
      "====================================================================================================\n",
      "                                                              Missing Values Detection                                                                \n",
      "====================================================================================================\n",
      "Total number of missing values in the Dataset: 525600\n",
      "====================================================================================================\n",
      "                                                A Dataset Feature Having missing values more than 5 %                                                 \n",
      "====================================================================================================\n",
      "Missing Values of column Comments: -> 100.0 %\n",
      "====================================================================================================\n"
     ]
    }
   ],
   "source": [
    "# getting number of missing values for all dataset\n",
    "print(\"=\"*100)\n",
    "print(\"Missing Values Detection \".center(150))\n",
    "print(\"=\"*100, end=\"\\n\")\n",
    "print(f\"Total number of missing values in the Dataset: {benin_data.isna().sum().sum()}\")\n",
    "print(\"=\"*100, end=\"\\n\")\n",
    "\n",
    "# columns having missing values more than 5%\n",
    "\n",
    "print(f\"A Dataset Feature Having missing values more than 5 %\".center(150))\n",
    "print(\"=\"*100)\n",
    "for col in benin_data.columns: #\n",
    "    percent =(benin_data[col].isna().sum()/benin_data.shape[0]) * 100\n",
    "    if  percent.round(2) >= 5:\n",
    "        print(f\"Missing Values of column {col}: -> {percent} %\")\n",
    "print(\"=\"*100,end=\"\\n\")\n",
    "\n",
    "\n"
   ]
  },
  {
   "cell_type": "code",
   "execution_count": 13,
   "id": "7af47174",
   "metadata": {},
   "outputs": [
    {
     "data": {
      "application/vnd.microsoft.datawrangler.viewer.v0+json": {
       "columns": [
        {
         "name": "index",
         "rawType": "object",
         "type": "string"
        },
        {
         "name": "# missing",
         "rawType": "int64",
         "type": "integer"
        },
        {
         "name": "% missing",
         "rawType": "float64",
         "type": "float"
        }
       ],
       "conversionMethod": "pd.DataFrame",
       "ref": "c4323ac4-c447-4cf5-b6e7-abc9f43eaccc",
       "rows": [
        [
         "Timestamp",
         "0",
         "0.0"
        ],
        [
         "GHI",
         "0",
         "0.0"
        ],
        [
         "DNI",
         "0",
         "0.0"
        ],
        [
         "DHI",
         "0",
         "0.0"
        ],
        [
         "ModA",
         "0",
         "0.0"
        ],
        [
         "ModB",
         "0",
         "0.0"
        ],
        [
         "Tamb",
         "0",
         "0.0"
        ],
        [
         "RH",
         "0",
         "0.0"
        ],
        [
         "WS",
         "0",
         "0.0"
        ],
        [
         "WSgust",
         "0",
         "0.0"
        ],
        [
         "WSstdev",
         "0",
         "0.0"
        ],
        [
         "WD",
         "0",
         "0.0"
        ],
        [
         "WDstdev",
         "0",
         "0.0"
        ],
        [
         "BP",
         "0",
         "0.0"
        ],
        [
         "Cleaning",
         "0",
         "0.0"
        ],
        [
         "Precipitation",
         "0",
         "0.0"
        ],
        [
         "TModA",
         "0",
         "0.0"
        ],
        [
         "TModB",
         "0",
         "0.0"
        ]
       ],
       "shape": {
        "columns": 2,
        "rows": 18
       }
      },
      "text/html": [
       "<div>\n",
       "<style scoped>\n",
       "    .dataframe tbody tr th:only-of-type {\n",
       "        vertical-align: middle;\n",
       "    }\n",
       "\n",
       "    .dataframe tbody tr th {\n",
       "        vertical-align: top;\n",
       "    }\n",
       "\n",
       "    .dataframe thead th {\n",
       "        text-align: right;\n",
       "    }\n",
       "</style>\n",
       "<table border=\"1\" class=\"dataframe\">\n",
       "  <thead>\n",
       "    <tr style=\"text-align: right;\">\n",
       "      <th></th>\n",
       "      <th># missing</th>\n",
       "      <th>% missing</th>\n",
       "    </tr>\n",
       "  </thead>\n",
       "  <tbody>\n",
       "    <tr>\n",
       "      <th>Timestamp</th>\n",
       "      <td>0</td>\n",
       "      <td>0.0</td>\n",
       "    </tr>\n",
       "    <tr>\n",
       "      <th>GHI</th>\n",
       "      <td>0</td>\n",
       "      <td>0.0</td>\n",
       "    </tr>\n",
       "    <tr>\n",
       "      <th>DNI</th>\n",
       "      <td>0</td>\n",
       "      <td>0.0</td>\n",
       "    </tr>\n",
       "    <tr>\n",
       "      <th>DHI</th>\n",
       "      <td>0</td>\n",
       "      <td>0.0</td>\n",
       "    </tr>\n",
       "    <tr>\n",
       "      <th>ModA</th>\n",
       "      <td>0</td>\n",
       "      <td>0.0</td>\n",
       "    </tr>\n",
       "    <tr>\n",
       "      <th>ModB</th>\n",
       "      <td>0</td>\n",
       "      <td>0.0</td>\n",
       "    </tr>\n",
       "    <tr>\n",
       "      <th>Tamb</th>\n",
       "      <td>0</td>\n",
       "      <td>0.0</td>\n",
       "    </tr>\n",
       "    <tr>\n",
       "      <th>RH</th>\n",
       "      <td>0</td>\n",
       "      <td>0.0</td>\n",
       "    </tr>\n",
       "    <tr>\n",
       "      <th>WS</th>\n",
       "      <td>0</td>\n",
       "      <td>0.0</td>\n",
       "    </tr>\n",
       "    <tr>\n",
       "      <th>WSgust</th>\n",
       "      <td>0</td>\n",
       "      <td>0.0</td>\n",
       "    </tr>\n",
       "    <tr>\n",
       "      <th>WSstdev</th>\n",
       "      <td>0</td>\n",
       "      <td>0.0</td>\n",
       "    </tr>\n",
       "    <tr>\n",
       "      <th>WD</th>\n",
       "      <td>0</td>\n",
       "      <td>0.0</td>\n",
       "    </tr>\n",
       "    <tr>\n",
       "      <th>WDstdev</th>\n",
       "      <td>0</td>\n",
       "      <td>0.0</td>\n",
       "    </tr>\n",
       "    <tr>\n",
       "      <th>BP</th>\n",
       "      <td>0</td>\n",
       "      <td>0.0</td>\n",
       "    </tr>\n",
       "    <tr>\n",
       "      <th>Cleaning</th>\n",
       "      <td>0</td>\n",
       "      <td>0.0</td>\n",
       "    </tr>\n",
       "    <tr>\n",
       "      <th>Precipitation</th>\n",
       "      <td>0</td>\n",
       "      <td>0.0</td>\n",
       "    </tr>\n",
       "    <tr>\n",
       "      <th>TModA</th>\n",
       "      <td>0</td>\n",
       "      <td>0.0</td>\n",
       "    </tr>\n",
       "    <tr>\n",
       "      <th>TModB</th>\n",
       "      <td>0</td>\n",
       "      <td>0.0</td>\n",
       "    </tr>\n",
       "  </tbody>\n",
       "</table>\n",
       "</div>"
      ],
      "text/plain": [
       "               # missing  % missing\n",
       "Timestamp              0        0.0\n",
       "GHI                    0        0.0\n",
       "DNI                    0        0.0\n",
       "DHI                    0        0.0\n",
       "ModA                   0        0.0\n",
       "ModB                   0        0.0\n",
       "Tamb                   0        0.0\n",
       "RH                     0        0.0\n",
       "WS                     0        0.0\n",
       "WSgust                 0        0.0\n",
       "WSstdev                0        0.0\n",
       "WD                     0        0.0\n",
       "WDstdev                0        0.0\n",
       "BP                     0        0.0\n",
       "Cleaning               0        0.0\n",
       "Precipitation          0        0.0\n",
       "TModA                  0        0.0\n",
       "TModB                  0        0.0"
      ]
     },
     "execution_count": 13,
     "metadata": {},
     "output_type": "execute_result"
    }
   ],
   "source": [
    "# Number of missing values for each features \n",
    "no_missing = pd.DataFrame({\n",
    "    '# missing': benin_data.isna().sum(), \n",
    "    '% missing': benin_data.isna().mean()*100\n",
    "})\n",
    "no_missing"
   ]
  },
  {
   "cell_type": "code",
   "execution_count": 16,
   "id": "107746f9",
   "metadata": {},
   "outputs": [],
   "source": [
    "# After getting number of missing values feature \"comment\" is dropped \n",
    "benin_data.drop(['Comments'], axis=1, inplace=True)  # drop comments column"
   ]
  },
  {
   "cell_type": "code",
   "execution_count": 9,
   "id": "b8c8d00f",
   "metadata": {},
   "outputs": [
    {
     "name": "stdout",
     "output_type": "stream",
     "text": [
      "====================================================================================================\n",
      "                                                                       Duplicated Values                                                                        \n",
      "====================================================================================================\n"
     ]
    },
    {
     "name": "stdout",
     "output_type": "stream",
     "text": [
      "                                                    Number of Duplicated values in the dataset: 0                                                     \n",
      "====================================================================================================\n"
     ]
    }
   ],
   "source": [
    "\n",
    "# Number of Duplicated values \n",
    "print(\"=\"*100)\n",
    "print(\"Duplicated Values\".center(160))\n",
    "print(\"=\"*100)\n",
    "print(f\"Number of Duplicated values in the dataset: {benin_data.duplicated().sum()}\".center(150)) # used to display the number of duplicated values in the dataset\n",
    "print(\"=\"*100, end=\"\\n\")"
   ]
  },
  {
   "cell_type": "code",
   "execution_count": 10,
   "id": "bbb63a05",
   "metadata": {},
   "outputs": [
    {
     "data": {
      "application/vnd.microsoft.datawrangler.viewer.v0+json": {
       "columns": [
        {
         "name": "index",
         "rawType": "object",
         "type": "string"
        },
        {
         "name": "num of -ve values",
         "rawType": "int64",
         "type": "integer"
        },
        {
         "name": "% of -ve values",
         "rawType": "float64",
         "type": "float"
        }
       ],
       "conversionMethod": "pd.DataFrame",
       "ref": "3545b4b5-f428-4714-8bcc-cb4b27bd1aaa",
       "rows": [
        [
         "GHI",
         "258847",
         "49.25"
        ],
        [
         "DNI",
         "275987",
         "52.51"
        ],
        [
         "DHI",
         "259182",
         "49.31"
        ],
        [
         "ModA",
         "0",
         "0.0"
        ],
        [
         "ModB",
         "0",
         "0.0"
        ],
        [
         "Tamb",
         "0",
         "0.0"
        ],
        [
         "RH",
         "0",
         "0.0"
        ],
        [
         "WS",
         "0",
         "0.0"
        ],
        [
         "WSgust",
         "0",
         "0.0"
        ],
        [
         "WSstdev",
         "0",
         "0.0"
        ],
        [
         "WD",
         "0",
         "0.0"
        ],
        [
         "WDstdev",
         "0",
         "0.0"
        ],
        [
         "BP",
         "0",
         "0.0"
        ],
        [
         "Cleaning",
         "0",
         "0.0"
        ],
        [
         "Precipitation",
         "0",
         "0.0"
        ],
        [
         "TModA",
         "0",
         "0.0"
        ],
        [
         "TModB",
         "0",
         "0.0"
        ],
        [
         "Comments",
         "0",
         "0.0"
        ]
       ],
       "shape": {
        "columns": 2,
        "rows": 18
       }
      },
      "text/html": [
       "<div>\n",
       "<style scoped>\n",
       "    .dataframe tbody tr th:only-of-type {\n",
       "        vertical-align: middle;\n",
       "    }\n",
       "\n",
       "    .dataframe tbody tr th {\n",
       "        vertical-align: top;\n",
       "    }\n",
       "\n",
       "    .dataframe thead th {\n",
       "        text-align: right;\n",
       "    }\n",
       "</style>\n",
       "<table border=\"1\" class=\"dataframe\">\n",
       "  <thead>\n",
       "    <tr style=\"text-align: right;\">\n",
       "      <th></th>\n",
       "      <th>num of -ve values</th>\n",
       "      <th>% of -ve values</th>\n",
       "    </tr>\n",
       "  </thead>\n",
       "  <tbody>\n",
       "    <tr>\n",
       "      <th>GHI</th>\n",
       "      <td>258847</td>\n",
       "      <td>49.25</td>\n",
       "    </tr>\n",
       "    <tr>\n",
       "      <th>DNI</th>\n",
       "      <td>275987</td>\n",
       "      <td>52.51</td>\n",
       "    </tr>\n",
       "    <tr>\n",
       "      <th>DHI</th>\n",
       "      <td>259182</td>\n",
       "      <td>49.31</td>\n",
       "    </tr>\n",
       "    <tr>\n",
       "      <th>ModA</th>\n",
       "      <td>0</td>\n",
       "      <td>0.00</td>\n",
       "    </tr>\n",
       "    <tr>\n",
       "      <th>ModB</th>\n",
       "      <td>0</td>\n",
       "      <td>0.00</td>\n",
       "    </tr>\n",
       "    <tr>\n",
       "      <th>Tamb</th>\n",
       "      <td>0</td>\n",
       "      <td>0.00</td>\n",
       "    </tr>\n",
       "    <tr>\n",
       "      <th>RH</th>\n",
       "      <td>0</td>\n",
       "      <td>0.00</td>\n",
       "    </tr>\n",
       "    <tr>\n",
       "      <th>WS</th>\n",
       "      <td>0</td>\n",
       "      <td>0.00</td>\n",
       "    </tr>\n",
       "    <tr>\n",
       "      <th>WSgust</th>\n",
       "      <td>0</td>\n",
       "      <td>0.00</td>\n",
       "    </tr>\n",
       "    <tr>\n",
       "      <th>WSstdev</th>\n",
       "      <td>0</td>\n",
       "      <td>0.00</td>\n",
       "    </tr>\n",
       "    <tr>\n",
       "      <th>WD</th>\n",
       "      <td>0</td>\n",
       "      <td>0.00</td>\n",
       "    </tr>\n",
       "    <tr>\n",
       "      <th>WDstdev</th>\n",
       "      <td>0</td>\n",
       "      <td>0.00</td>\n",
       "    </tr>\n",
       "    <tr>\n",
       "      <th>BP</th>\n",
       "      <td>0</td>\n",
       "      <td>0.00</td>\n",
       "    </tr>\n",
       "    <tr>\n",
       "      <th>Cleaning</th>\n",
       "      <td>0</td>\n",
       "      <td>0.00</td>\n",
       "    </tr>\n",
       "    <tr>\n",
       "      <th>Precipitation</th>\n",
       "      <td>0</td>\n",
       "      <td>0.00</td>\n",
       "    </tr>\n",
       "    <tr>\n",
       "      <th>TModA</th>\n",
       "      <td>0</td>\n",
       "      <td>0.00</td>\n",
       "    </tr>\n",
       "    <tr>\n",
       "      <th>TModB</th>\n",
       "      <td>0</td>\n",
       "      <td>0.00</td>\n",
       "    </tr>\n",
       "    <tr>\n",
       "      <th>Comments</th>\n",
       "      <td>0</td>\n",
       "      <td>0.00</td>\n",
       "    </tr>\n",
       "  </tbody>\n",
       "</table>\n",
       "</div>"
      ],
      "text/plain": [
       "               num of -ve values  % of -ve values\n",
       "GHI                       258847            49.25\n",
       "DNI                       275987            52.51\n",
       "DHI                       259182            49.31\n",
       "ModA                           0             0.00\n",
       "ModB                           0             0.00\n",
       "Tamb                           0             0.00\n",
       "RH                             0             0.00\n",
       "WS                             0             0.00\n",
       "WSgust                         0             0.00\n",
       "WSstdev                        0             0.00\n",
       "WD                             0             0.00\n",
       "WDstdev                        0             0.00\n",
       "BP                             0             0.00\n",
       "Cleaning                       0             0.00\n",
       "Precipitation                  0             0.00\n",
       "TModA                          0             0.00\n",
       "TModB                          0             0.00\n",
       "Comments                       0             0.00"
      ]
     },
     "execution_count": 10,
     "metadata": {},
     "output_type": "execute_result"
    }
   ],
   "source": [
    "# finding incorrect entries from the dataset     \n",
    "negative_values = pd.DataFrame({\n",
    "    'num of -ve values': benin_data.select_dtypes(include='number').lt(0).sum(), # counting the number of negative values in the dataset\n",
    "    \"% of -ve values\": round(benin_data.select_dtypes(include='number').lt(0).mean() *100, 2), # percentage of negative values\n",
    "})\n",
    "\n",
    "negative_values"
   ]
  },
  {
   "cell_type": "code",
   "execution_count": 11,
   "id": "18ddcc36",
   "metadata": {},
   "outputs": [],
   "source": [
    "radiation_cols = ['GHI', 'DNI', 'DHI'] # List of columns to replace negative values with 0\n",
    "benin_data[radiation_cols] = benin_data[radiation_cols].clip(lower=0) # Replace negative values with 0"
   ]
  },
  {
   "cell_type": "markdown",
   "id": "c628b99e",
   "metadata": {},
   "source": [
    "- The above data profiling outputs describes:\n",
    "  - The dataset one columns with missing values of all records\n",
    "  -  There is no duplicated record in the dataset\n",
    "  -  The Dataset contains 19 features and 525600 records\n",
    "  -  The Dataset contains `16 float type` columns, `2 int type features` and `1 date and time feature`\n",
    "  -  Dataset has one features with complete missing values. feature is called `comments` and all other features have no missing values \n",
    "  -  The data set contains incorrect feature inputs for `GHI, DNI anf DHI features`   "
   ]
  },
  {
   "cell_type": "code",
   "execution_count": 13,
   "id": "c443a654",
   "metadata": {},
   "outputs": [],
   "source": [
    "# selected columns \n",
    "radiation_cols = ['GHI', 'DNI', 'DHI', 'ModA','ModB','WS', 'WSgust']"
   ]
  },
  {
   "cell_type": "code",
   "execution_count": null,
   "id": "0817821b",
   "metadata": {},
   "outputs": [
    {
     "data": {
      "application/vnd.microsoft.datawrangler.viewer.v0+json": {
       "columns": [
        {
         "name": "index",
         "rawType": "object",
         "type": "string"
        },
        {
         "name": "GHI",
         "rawType": "float64",
         "type": "float"
        },
        {
         "name": "DNI",
         "rawType": "float64",
         "type": "float"
        },
        {
         "name": "DHI",
         "rawType": "float64",
         "type": "float"
        },
        {
         "name": "ModA",
         "rawType": "float64",
         "type": "float"
        },
        {
         "name": "ModB",
         "rawType": "float64",
         "type": "float"
        },
        {
         "name": "WS",
         "rawType": "float64",
         "type": "float"
        },
        {
         "name": "WSgust",
         "rawType": "float64",
         "type": "float"
        }
       ],
       "conversionMethod": "pd.DataFrame",
       "ref": "92017964-b5aa-47ab-a200-1abdad27cc70",
       "rows": [
        [
         "count",
         "525600.0",
         "525600.0",
         "525600.0",
         "525600.0",
         "525600.0",
         "525600.0",
         "525600.0"
        ],
        [
         "mean",
         "241.95882077625572",
         "167.44186624809745",
         "116.99303348554032",
         "236.5894961948249",
         "228.883575913242",
         "2.121112823439878",
         "2.8091948249619483"
        ],
        [
         "std",
         "330.10178719473936",
         "261.5475324834319",
         "157.46361880833496",
         "326.89485851507413",
         "316.53651537980164",
         "1.6034658845357102",
         "2.029119651774774"
        ],
        [
         "min",
         "0.0",
         "0.0",
         "0.0",
         "0.0",
         "0.0",
         "0.0",
         "0.0"
        ],
        [
         "25%",
         "0.0",
         "0.0",
         "0.0",
         "0.0",
         "0.0",
         "1.0",
         "1.3"
        ],
        [
         "50%",
         "1.8",
         "0.0",
         "1.6",
         "4.5",
         "4.3",
         "1.9",
         "2.6"
        ],
        [
         "75%",
         "483.4",
         "314.2",
         "216.3",
         "463.7",
         "447.9",
         "3.1",
         "4.1"
        ],
        [
         "max",
         "1413.0",
         "952.3",
         "759.2",
         "1342.3",
         "1342.3",
         "19.5",
         "26.6"
        ]
       ],
       "shape": {
        "columns": 7,
        "rows": 8
       }
      },
      "text/html": [
       "<div>\n",
       "<style scoped>\n",
       "    .dataframe tbody tr th:only-of-type {\n",
       "        vertical-align: middle;\n",
       "    }\n",
       "\n",
       "    .dataframe tbody tr th {\n",
       "        vertical-align: top;\n",
       "    }\n",
       "\n",
       "    .dataframe thead th {\n",
       "        text-align: right;\n",
       "    }\n",
       "</style>\n",
       "<table border=\"1\" class=\"dataframe\">\n",
       "  <thead>\n",
       "    <tr style=\"text-align: right;\">\n",
       "      <th></th>\n",
       "      <th>GHI</th>\n",
       "      <th>DNI</th>\n",
       "      <th>DHI</th>\n",
       "      <th>ModA</th>\n",
       "      <th>ModB</th>\n",
       "      <th>WS</th>\n",
       "      <th>WSgust</th>\n",
       "    </tr>\n",
       "  </thead>\n",
       "  <tbody>\n",
       "    <tr>\n",
       "      <th>count</th>\n",
       "      <td>525600.000000</td>\n",
       "      <td>525600.000000</td>\n",
       "      <td>525600.000000</td>\n",
       "      <td>525600.000000</td>\n",
       "      <td>525600.000000</td>\n",
       "      <td>525600.000000</td>\n",
       "      <td>525600.000000</td>\n",
       "    </tr>\n",
       "    <tr>\n",
       "      <th>mean</th>\n",
       "      <td>241.958821</td>\n",
       "      <td>167.441866</td>\n",
       "      <td>116.993033</td>\n",
       "      <td>236.589496</td>\n",
       "      <td>228.883576</td>\n",
       "      <td>2.121113</td>\n",
       "      <td>2.809195</td>\n",
       "    </tr>\n",
       "    <tr>\n",
       "      <th>std</th>\n",
       "      <td>330.101787</td>\n",
       "      <td>261.547532</td>\n",
       "      <td>157.463619</td>\n",
       "      <td>326.894859</td>\n",
       "      <td>316.536515</td>\n",
       "      <td>1.603466</td>\n",
       "      <td>2.029120</td>\n",
       "    </tr>\n",
       "    <tr>\n",
       "      <th>min</th>\n",
       "      <td>0.000000</td>\n",
       "      <td>0.000000</td>\n",
       "      <td>0.000000</td>\n",
       "      <td>0.000000</td>\n",
       "      <td>0.000000</td>\n",
       "      <td>0.000000</td>\n",
       "      <td>0.000000</td>\n",
       "    </tr>\n",
       "    <tr>\n",
       "      <th>25%</th>\n",
       "      <td>0.000000</td>\n",
       "      <td>0.000000</td>\n",
       "      <td>0.000000</td>\n",
       "      <td>0.000000</td>\n",
       "      <td>0.000000</td>\n",
       "      <td>1.000000</td>\n",
       "      <td>1.300000</td>\n",
       "    </tr>\n",
       "    <tr>\n",
       "      <th>50%</th>\n",
       "      <td>1.800000</td>\n",
       "      <td>0.000000</td>\n",
       "      <td>1.600000</td>\n",
       "      <td>4.500000</td>\n",
       "      <td>4.300000</td>\n",
       "      <td>1.900000</td>\n",
       "      <td>2.600000</td>\n",
       "    </tr>\n",
       "    <tr>\n",
       "      <th>75%</th>\n",
       "      <td>483.400000</td>\n",
       "      <td>314.200000</td>\n",
       "      <td>216.300000</td>\n",
       "      <td>463.700000</td>\n",
       "      <td>447.900000</td>\n",
       "      <td>3.100000</td>\n",
       "      <td>4.100000</td>\n",
       "    </tr>\n",
       "    <tr>\n",
       "      <th>max</th>\n",
       "      <td>1413.000000</td>\n",
       "      <td>952.300000</td>\n",
       "      <td>759.200000</td>\n",
       "      <td>1342.300000</td>\n",
       "      <td>1342.300000</td>\n",
       "      <td>19.500000</td>\n",
       "      <td>26.600000</td>\n",
       "    </tr>\n",
       "  </tbody>\n",
       "</table>\n",
       "</div>"
      ],
      "text/plain": [
       "                 GHI            DNI            DHI           ModA  \\\n",
       "count  525600.000000  525600.000000  525600.000000  525600.000000   \n",
       "mean      241.958821     167.441866     116.993033     236.589496   \n",
       "std       330.101787     261.547532     157.463619     326.894859   \n",
       "min         0.000000       0.000000       0.000000       0.000000   \n",
       "25%         0.000000       0.000000       0.000000       0.000000   \n",
       "50%         1.800000       0.000000       1.600000       4.500000   \n",
       "75%       483.400000     314.200000     216.300000     463.700000   \n",
       "max      1413.000000     952.300000     759.200000    1342.300000   \n",
       "\n",
       "                ModB             WS         WSgust  \n",
       "count  525600.000000  525600.000000  525600.000000  \n",
       "mean      228.883576       2.121113       2.809195  \n",
       "std       316.536515       1.603466       2.029120  \n",
       "min         0.000000       0.000000       0.000000  \n",
       "25%         0.000000       1.000000       1.300000  \n",
       "50%         4.300000       1.900000       2.600000  \n",
       "75%       447.900000       3.100000       4.100000  \n",
       "max      1342.300000      19.500000      26.600000  "
      ]
     },
     "execution_count": 14,
     "metadata": {},
     "output_type": "execute_result"
    }
   ],
   "source": [
    "# checking statistical summary of the dataset for selected features\n",
    "benin_data[radiation_cols].describe()\n",
    "\n",
    "# This Statistical description is done after clipping negative values of GHI, DNI, and DHI "
   ]
  },
  {
   "cell_type": "code",
   "execution_count": null,
   "id": "9092cb2b",
   "metadata": {},
   "outputs": [
    {
     "data": {
      "application/vnd.microsoft.datawrangler.viewer.v0+json": {
       "columns": [
        {
         "name": "index",
         "rawType": "int64",
         "type": "integer"
        },
        {
         "name": "column",
         "rawType": "object",
         "type": "string"
        },
        {
         "name": "# of outlier",
         "rawType": "int64",
         "type": "integer"
        },
        {
         "name": "% of Outlier",
         "rawType": "float64",
         "type": "float"
        }
       ],
       "conversionMethod": "pd.DataFrame",
       "ref": "ffb2b98b-03de-4eb2-88ae-af8b19b09f85",
       "rows": [
        [
         "0",
         "DHI",
         "3415",
         "0.65"
        ],
        [
         "1",
         "GHI",
         "314",
         "0.06"
        ],
        [
         "2",
         "DNI",
         "1062",
         "0.2"
        ],
        [
         "3",
         "ModA",
         "137",
         "0.03"
        ],
        [
         "4",
         "ModB",
         "206",
         "0.04"
        ],
        [
         "5",
         "WS",
         "3510",
         "0.67"
        ],
        [
         "6",
         "WSgust",
         "3915",
         "0.74"
        ]
       ],
       "shape": {
        "columns": 3,
        "rows": 7
       }
      },
      "text/html": [
       "<div>\n",
       "<style scoped>\n",
       "    .dataframe tbody tr th:only-of-type {\n",
       "        vertical-align: middle;\n",
       "    }\n",
       "\n",
       "    .dataframe tbody tr th {\n",
       "        vertical-align: top;\n",
       "    }\n",
       "\n",
       "    .dataframe thead th {\n",
       "        text-align: right;\n",
       "    }\n",
       "</style>\n",
       "<table border=\"1\" class=\"dataframe\">\n",
       "  <thead>\n",
       "    <tr style=\"text-align: right;\">\n",
       "      <th></th>\n",
       "      <th>column</th>\n",
       "      <th># of outlier</th>\n",
       "      <th>% of Outlier</th>\n",
       "    </tr>\n",
       "  </thead>\n",
       "  <tbody>\n",
       "    <tr>\n",
       "      <th>0</th>\n",
       "      <td>DHI</td>\n",
       "      <td>3415</td>\n",
       "      <td>0.65</td>\n",
       "    </tr>\n",
       "    <tr>\n",
       "      <th>1</th>\n",
       "      <td>GHI</td>\n",
       "      <td>314</td>\n",
       "      <td>0.06</td>\n",
       "    </tr>\n",
       "    <tr>\n",
       "      <th>2</th>\n",
       "      <td>DNI</td>\n",
       "      <td>1062</td>\n",
       "      <td>0.20</td>\n",
       "    </tr>\n",
       "    <tr>\n",
       "      <th>3</th>\n",
       "      <td>ModA</td>\n",
       "      <td>137</td>\n",
       "      <td>0.03</td>\n",
       "    </tr>\n",
       "    <tr>\n",
       "      <th>4</th>\n",
       "      <td>ModB</td>\n",
       "      <td>206</td>\n",
       "      <td>0.04</td>\n",
       "    </tr>\n",
       "    <tr>\n",
       "      <th>5</th>\n",
       "      <td>WS</td>\n",
       "      <td>3510</td>\n",
       "      <td>0.67</td>\n",
       "    </tr>\n",
       "    <tr>\n",
       "      <th>6</th>\n",
       "      <td>WSgust</td>\n",
       "      <td>3915</td>\n",
       "      <td>0.74</td>\n",
       "    </tr>\n",
       "  </tbody>\n",
       "</table>\n",
       "</div>"
      ],
      "text/plain": [
       "   column  # of outlier  % of Outlier\n",
       "0     DHI          3415          0.65\n",
       "1     GHI           314          0.06\n",
       "2     DNI          1062          0.20\n",
       "3    ModA           137          0.03\n",
       "4    ModB           206          0.04\n",
       "5      WS          3510          0.67\n",
       "6  WSgust          3915          0.74"
      ]
     },
     "execution_count": 21,
     "metadata": {},
     "output_type": "execute_result"
    }
   ],
   "source": [
    "# checking for outliers using zscore\n",
    "def z_score_outlier(col):\n",
    "    outlier = {}\n",
    "    for co in col:    \n",
    "            zscore1 = np.abs(zscore(benin_data[co]))\n",
    "            outlier[co]= zscore1 > 3 \n",
    "    return outlier\n",
    "outlier_z_score = z_score_outlier(radiation_cols)\n",
    "\n",
    "z_score_Outlier = pd.DataFrame({\n",
    "    'column': radiation_cols,\n",
    "    '# of outlier': [outlier.sum() for outlier in outlier_z_score.values()],\n",
    "    '% of Outlier':[round(outlier.mean() * 100, 2) for outlier in outlier_z_score.values()]\n",
    "})\n",
    "z_score_Outlier"
   ]
  },
  {
   "cell_type": "code",
   "execution_count": 77,
   "id": "f6a135ad",
   "metadata": {},
   "outputs": [
    {
     "name": "stdout",
     "output_type": "stream",
     "text": [
      "Outlier Detection using Z Score \n",
      "Found 90 Outliers |z| >3 \n"
     ]
    },
    {
     "data": {
      "text/plain": [
       "np.float64(671.7)"
      ]
     },
     "execution_count": 77,
     "metadata": {},
     "output_type": "execute_result"
    }
   ],
   "source": [
    "print(\"Outlier Detection using Z Score \")\n",
    "z_scores = np.abs(zscore(benin_data['GHI']))\n",
    "benin_outlier = (z_scores >3)\n",
    "print(f\"Found {benin_outlier.sum()} Outliers |z| >3 \")\n",
    "\n",
    "benin_data[benin_outlier].ModA.min()"
   ]
  },
  {
   "cell_type": "code",
   "execution_count": 79,
   "id": "14d3200b",
   "metadata": {},
   "outputs": [
    {
     "data": {
      "text/plain": [
       "{'GHI': np.int64(90),\n",
       " 'DNI': np.int64(2),\n",
       " 'DHI': np.int64(3889),\n",
       " 'ModA': np.int64(27),\n",
       " 'ModB': np.int64(63),\n",
       " 'WS': np.int64(3109),\n",
       " 'WSgust': np.int64(3500)}"
      ]
     },
     "execution_count": 79,
     "metadata": {},
     "output_type": "execute_result"
    }
   ],
   "source": [
    "dict_out = {}\n",
    "for i in radiation_cols:\n",
    "    z = np.abs(zscore(benin_data[i]))\n",
    "    bz = z>3\n",
    "    dict_out[i] =benin_data[bz][i].count()\n",
    "\n",
    "dict_out\n",
    "    "
   ]
  },
  {
   "cell_type": "markdown",
   "id": "eb2e3a2d",
   "metadata": {},
   "source": [
    "Time series analysis "
   ]
  },
  {
   "cell_type": "code",
   "execution_count": 38,
   "id": "3716d1b2",
   "metadata": {},
   "outputs": [],
   "source": [
    "benin_data_copy = benin_data.copy()"
   ]
  },
  {
   "cell_type": "code",
   "execution_count": 39,
   "id": "6fb95ea5",
   "metadata": {},
   "outputs": [],
   "source": [
    "benin_data_copy[\"Year\"] = benin_data_copy['Timestamp'].dt.year\n",
    "benin_data_copy[\"month\"] = benin_data_copy['Timestamp'].dt.month\n",
    "benin_data_copy[\"day\"] = benin_data_copy['Timestamp'].dt.day\n",
    "benin_data_copy[\"Hour\"] = benin_data_copy['Timestamp'].dt.hour\n",
    "benin_data_copy[\"minute\"] = benin_data_copy['Timestamp'].dt.minute"
   ]
  },
  {
   "cell_type": "code",
   "execution_count": 40,
   "id": "349a7fba",
   "metadata": {},
   "outputs": [
    {
     "data": {
      "text/plain": [
       "array([2021, 2022], dtype=int32)"
      ]
     },
     "execution_count": 40,
     "metadata": {},
     "output_type": "execute_result"
    }
   ],
   "source": [
    "benin_data_copy['Year'].unique() # benin data is 2 year data"
   ]
  },
  {
   "cell_type": "code",
   "execution_count": 43,
   "id": "c977127b",
   "metadata": {},
   "outputs": [
    {
     "name": "stderr",
     "output_type": "stream",
     "text": [
      "C:\\Users\\jonep\\AppData\\Roaming\\Python\\Python313\\site-packages\\IPython\\core\\pylabtools.py:170: UserWarning: Creating legend with loc=\"best\" can be slow with large amounts of data.\n",
      "  fig.canvas.print_figure(bytes_io, **kw)\n"
     ]
    },
    {
     "data": {
      "image/png": "[encoded data removed]",
      "text/plain": [
       "<Figure size 640x480 with 1 Axes>"
      ]
     },
     "metadata": {},
     "output_type": "display_data"
    }
   ],
   "source": [
    "plt.plot(benin_data_copy['Timestamp'], benin_data_copy['GHI'], label='GHI')\n",
    "plt.plot(benin_data_copy['Timestamp'], benin_data_copy['DNI'], label='DNI')\n",
    "plt.plot(benin_data_copy['Timestamp'], benin_data_copy['DHI'], label='DHI')\n",
    "plt.legend()\n",
    "plt.show()"
   ]
  },
  {
   "cell_type": "code",
   "execution_count": 50,
   "id": "a67fff6f",
   "metadata": {},
   "outputs": [
    {
     "name": "stderr",
     "output_type": "stream",
     "text": [
      "C:\\Users\\jonep\\AppData\\Local\\Temp\\ipykernel_7544\\3296140489.py:5: UserWarning: No artists with labels found to put in legend.  Note that artists whose label start with an underscore are ignored when legend() is called with no argument.\n",
      "  plt.legend()\n"
     ]
    },
    {
     "data": {
      "image/png": "[encoded data removed]",
      "text/plain": [
       "<Figure size 1000x600 with 1 Axes>"
      ]
     },
     "metadata": {},
     "output_type": "display_data"
    }
   ],
   "source": [
    "plt.figure(figsize=(10,6))\n",
    "sns.lineplot(data=benin_data_copy, y='GHI', x = 'Timestamp')\n",
    "sns.lineplot(data=benin_data_copy, y='DNI', x = 'Timestamp')\n",
    "sns.lineplot(data=benin_data_copy, y='DHI', x = 'Timestamp')\n",
    "plt.legend()\n",
    "plt.show()"
   ]
  },
  {
   "cell_type": "code",
   "execution_count": 58,
   "id": "2e9883b3",
   "metadata": {},
   "outputs": [
    {
     "data": {
      "image/png": "[encoded data removed]",
      "text/plain": [
       "<Figure size 1000x500 with 1 Axes>"
      ]
     },
     "metadata": {},
     "output_type": "display_data"
    }
   ],
   "source": [
    "# group \n",
    "cleaned = benin_data.groupby('Cleaning')['ModB'].mean()\n",
    "plt.figure(figsize= (10,5))\n",
    "cleaned.plot(kind='bar')\n",
    "plt.show()"
   ]
  },
  {
   "cell_type": "code",
   "execution_count": 59,
   "id": "3e7cc28a",
   "metadata": {},
   "outputs": [
    {
     "data": {
      "image/png": "[encoded data removed]",
      "text/plain": [
       "<Figure size 640x480 with 2 Axes>"
      ]
     },
     "metadata": {},
     "output_type": "display_data"
    }
   ],
   "source": [
    "# Correlation plot \n",
    "\n",
    "corr = benin_data[[\"GHI\", \"DNI\", \"DHI\", \"TModA\", \"TModB\"]].corr()\n",
    "sns.heatmap(corr, annot=True)\n",
    "plt.show()"
   ]
  },
  {
   "cell_type": "code",
   "execution_count": 60,
   "id": "d8eb9cf5",
   "metadata": {},
   "outputs": [],
   "source": [
    "# Scatter plots: WS, WSgust, WD vs. GHI; RH vs. Tamb or RH vs. GHI\n"
   ]
  },
  {
   "cell_type": "markdown",
   "id": "823468c8",
   "metadata": {},
   "source": [
    "Wind & Distribution Analysis"
   ]
  },
  {
   "cell_type": "code",
   "execution_count": 61,
   "id": "28da55cf",
   "metadata": {},
   "outputs": [],
   "source": [
    "#Wind rose or radial bar plot of WS/WD."
   ]
  },
  {
   "cell_type": "code",
   "execution_count": 62,
   "id": "b1cf9b64",
   "metadata": {},
   "outputs": [],
   "source": [
    "# Histograms for GHI and one other variable (e.g. WS)."
   ]
  },
  {
   "cell_type": "markdown",
   "id": "e8d92616",
   "metadata": {},
   "source": [
    "Temperature Analysis\n"
   ]
  },
  {
   "cell_type": "code",
   "execution_count": 63,
   "id": "57cef223",
   "metadata": {},
   "outputs": [],
   "source": [
    "# Examine how relative humidity (RH) might influence temperature readings and solar radiation."
   ]
  },
  {
   "cell_type": "markdown",
   "id": "de67e616",
   "metadata": {},
   "source": [
    "Bubble Chart\n",
    "- GHI vs. Tamb with bubble size = RH or BP."
   ]
  },
  {
   "cell_type": "code",
   "execution_count": null,
   "id": "df40eedb",
   "metadata": {},
   "outputs": [],
   "source": [
    "\n"
   ]
  }
 ],
 "metadata": {
  "kernelspec": {
   "display_name": "Python 3",
   "language": "python",
   "name": "python3"
  },
  "language_info": {
   "codemirror_mode": {
    "name": "ipython",
    "version": 3
   },
   "file_extension": ".py",
   "mimetype": "text/x-python",
   "name": "python",
   "nbconvert_exporter": "python",
   "pygments_lexer": "ipython3",
   "version": "3.13.1"
  }
 },
 "nbformat": 4,
 "nbformat_minor": 5
}
